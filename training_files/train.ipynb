{
  "nbformat": 4,
  "nbformat_minor": 0,
  "metadata": {
    "colab": {
      "name": "RL_Games_2.ipynb",
      "provenance": []
    },
    "kernelspec": {
      "name": "python3",
      "display_name": "Python 3"
    },
    "language_info": {
      "name": "python"
    }
  },
  "cells": [
    {
      "cell_type": "code",
      "execution_count": 16,
      "metadata": {
        "id": "SsBYOEltTHlF"
      },
      "outputs": [],
      "source": [
        "! cp drive/MyDrive/API_Env.py .\n",
        "! cp drive/MyDrive/double_dqn_sb_1.zip . # one of the previously trained models is used as enemy snake"
      ]
    },
    {
      "cell_type": "code",
      "source": [
        "!pip install nqueens\n",
        "!pip install tensorflow==1.14.0\n",
        "!pip install stable-baselines"
      ],
      "metadata": {
        "id": "_qbYvzCGTRRR"
      },
      "execution_count": null,
      "outputs": []
    },
    {
      "cell_type": "code",
      "source": [
        "from API_Env import APIVasuki"
      ],
      "metadata": {
        "id": "qAWTHTimTgvB"
      },
      "execution_count": null,
      "outputs": []
    },
    {
      "cell_type": "code",
      "source": [
        "from stable_baselines.common.vec_env import DummyVecEnv, SubprocVecEnv\n",
        "from stable_baselines.common.policies import MlpPolicy\n",
        "from stable_baselines.common import make_vec_env, set_global_seeds\n",
        "from stable_baselines import DQN\n",
        "from stable_baselines.deepq.policies import FeedForwardPolicy"
      ],
      "metadata": {
        "id": "pvto_l-PUmPS"
      },
      "execution_count": null,
      "outputs": []
    },
    {
      "cell_type": "code",
      "source": [
        "class CustomDQNPolicy(FeedForwardPolicy):\n",
        "    def __init__(self, *args, **kwargs):\n",
        "        super(CustomDQNPolicy, self).__init__(*args, **kwargs, layers=[256, 128], layer_norm=True,\n",
        "                                              feature_extraction='mlp')"
      ],
      "metadata": {
        "id": "TahuJV2nU0Ot"
      },
      "execution_count": null,
      "outputs": []
    },
    {
      "cell_type": "code",
      "source": [
        "config = {'n': 8, 'rewards': {'Food': 4, 'Movement': -1, 'Illegal': -10}, 'game_length': 75}\n",
        "env = APIVasuki(**config)\n",
        "model = DQN(CustomDQNPolicy, env, learning_rate=0.005, verbose=1, tensorboard_log='dqn_tb',\n",
        "                exploration_fraction=0.35, prioritized_replay=True, gamma=0.99, batch_size=128, buffer_size=100000)"
      ],
      "metadata": {
        "id": "mmI9cFltU-wh"
      },
      "execution_count": null,
      "outputs": []
    },
    {
      "cell_type": "code",
      "source": [
        "steps = 1250\n",
        "model.learn(total_timesteps=steps*400)\n",
        "model.save('dqn_final_1')"
      ],
      "metadata": {
        "id": "b2nPvitOU2-P"
      },
      "execution_count": null,
      "outputs": []
    }
  ]
}